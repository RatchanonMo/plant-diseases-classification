{
  "nbformat": 4,
  "nbformat_minor": 0,
  "metadata": {
    "colab": {
      "name": "Untitled8.ipynb",
      "provenance": []
    },
    "kernelspec": {
      "name": "python3",
      "display_name": "Python 3"
    },
    "language_info": {
      "name": "python"
    },
    "accelerator": "GPU"
  },
  "cells": [
    {
      "cell_type": "code",
      "execution_count": null,
      "metadata": {
        "id": "nM4D2YrdLXau"
      },
      "outputs": [],
      "source": [
        "import os\n",
        "import os.path as op\n",
        "import shutil\n",
        "from glob import glob\n",
        "import pandas as pd\n",
        "import numpy as np\n",
        "import matplotlib.pyplot as plt\n",
        "from tqdm.auto import tqdm\n",
        "\n",
        "from torchvision import datasets, models, transforms\n",
        "from torch.utils.data import DataLoader\n",
        "from sklearn.model_selection import train_test_split"
      ]
    },
    {
      "cell_type": "code",
      "source": [
        "# สำหรับคนที่ยังไม่ได้ลงไลบรารี่ fastbook ให้ uncomment บรรทัด !pip install\n",
        "!pip install -Uqq fastbook\n",
        "import fastbook\n",
        "fastbook.setup_book()"
      ],
      "metadata": {
        "id": "jIW1f5bnLe_s"
      },
      "execution_count": null,
      "outputs": []
    },
    {
      "cell_type": "code",
      "source": [
        "from fastbook import *\n",
        "import warnings\n",
        "warnings.filterwarnings('ignore')"
      ],
      "metadata": {
        "id": "qP5b-zr4LihC"
      },
      "execution_count": null,
      "outputs": []
    },
    {
      "cell_type": "code",
      "source": [
        "learn = load_learner('/content/gdrive/MyDrive/dataset/models/vgg - 90.pkl')"
      ],
      "metadata": {
        "id": "Wre5edipLmqc"
      },
      "execution_count": null,
      "outputs": []
    },
    {
      "cell_type": "code",
      "source": [
        "learn.predict('/content/gdrive/MyDrive/dataset/real/Sooty_mold/00000006.jpg')"
      ],
      "metadata": {
        "id": "H04cLRmkNssa"
      },
      "execution_count": null,
      "outputs": []
    },
    {
      "cell_type": "code",
      "source": [
        "len(os.listdir('/content/gdrive/MyDrive/dataset/real/Bad_images'))"
      ],
      "metadata": {
        "id": "0jfC3L0BN-V2"
      },
      "execution_count": null,
      "outputs": []
    },
    {
      "cell_type": "code",
      "source": [
        "dest = \"/content/gdrive/MyDrive/dataset/real/Bad_images\" \n",
        "\n",
        "for class_name in tqdm(os.listdir('/content/gdrive/MyDrive/dataset/data')):\n",
        "  class_path = f'/content/gdrive/MyDrive/dataset/data/{class_name}'\n",
        "  for file_name in tqdm(os.listdir(class_path)):\n",
        "    file_path = f'{class_path}/{file_name}'\n",
        "    \n",
        "    if file_name[-3:] == 'php' :\n",
        "      os.remove(file_path)\n",
        "    else :\n",
        "      result = learn.predict(file_path)\n",
        "      if result[0] == \"bad\" :\n",
        "        split_tup = os.path.splitext(file_path) \n",
        "\n",
        "        new_file_path= f'{split_tup[0]} - {class_name}{split_tup[1]}'\n",
        "        os.rename(file_path, new_file_path)\n",
        "        shutil.move(new_file_path, dest)"
      ],
      "metadata": {
        "id": "HX6QojrVPpVD"
      },
      "execution_count": null,
      "outputs": []
    },
    {
      "cell_type": "markdown",
      "source": [
        "# **S P L I T**"
      ],
      "metadata": {
        "id": "6opfJ0w9ZjKW"
      }
    },
    {
      "cell_type": "code",
      "source": [
        "!pip install split-folders"
      ],
      "metadata": {
        "id": "IOU7W81aZfbe",
        "outputId": "11ca718d-e5bc-4318-b475-a09be72db91b",
        "colab": {
          "base_uri": "https://localhost:8080/"
        }
      },
      "execution_count": 1,
      "outputs": [
        {
          "output_type": "stream",
          "name": "stdout",
          "text": [
            "Looking in indexes: https://pypi.org/simple, https://us-python.pkg.dev/colab-wheels/public/simple/\n",
            "Collecting split-folders\n",
            "  Downloading split_folders-0.5.1-py3-none-any.whl (8.4 kB)\n",
            "Installing collected packages: split-folders\n",
            "Successfully installed split-folders-0.5.1\n"
          ]
        }
      ]
    },
    {
      "cell_type": "code",
      "source": [
        "import splitfolders  # or import split_folders\n",
        "\n",
        "input_folder = '/content/drive/MyDrive/dataset/pre_model/'\n",
        "\n",
        "# Split with a ratio.\n",
        "# To only split into training and validation set, set a tuple to `ratio`, i.e, `(.8, .2)`.\n",
        "#Train, val, test\n",
        "splitfolders.ratio(input_folder, output=\"/content/drive/MyDrive/dataset/data_split\", \n",
        "                   seed=42, ratio=(.8, .2), \n",
        "                   group_prefix=None) # default values"
      ],
      "metadata": {
        "id": "bHJyjMXfZb4I"
      },
      "execution_count": null,
      "outputs": []
    },
    {
      "cell_type": "code",
      "source": [
        ""
      ],
      "metadata": {
        "id": "RZ_CEDthJyqK"
      },
      "execution_count": null,
      "outputs": []
    }
  ]
}